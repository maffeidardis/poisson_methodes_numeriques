{
  "nbformat": 4,
  "nbformat_minor": 0,
  "metadata": {
    "colab": {
      "name": "Poisson_TT.ipynb",
      "provenance": [],
      "collapsed_sections": [],
      "authorship_tag": "ABX9TyPCupnff3uIx5uz1Px8WxzX",
      "include_colab_link": true
    },
    "kernelspec": {
      "name": "python3",
      "display_name": "Python 3"
    },
    "language_info": {
      "name": "python"
    }
  },
  "cells": [
    {
      "cell_type": "markdown",
      "metadata": {
        "id": "view-in-github",
        "colab_type": "text"
      },
      "source": [
        "<a href=\"https://colab.research.google.com/github/maffeidardis/poisson_methodes_numeriques/blob/main/Poisson_TT.ipynb\" target=\"_parent\"><img src=\"https://colab.research.google.com/assets/colab-badge.svg\" alt=\"Open In Colab\"/></a>"
      ]
    },
    {
      "cell_type": "markdown",
      "metadata": {
        "id": "elLCiRlLtbIC"
      },
      "source": [
        "# **Équation de Poisson à 2D par la méthode des différences finies**"
      ]
    },
    {
      "cell_type": "markdown",
      "metadata": {
        "id": "sOx0H2r8tdSs"
      },
      "source": [
        "Tout d'abord, on vais définir mathematiquement quel est le probléme.\n",
        "Le méthode plus classique pour ressoudre l'équation de Poisson c'est le méthode des différences finies. Basiquement, on veut remplacer chaque derivative pour um coefficient differentiel dans l'équation original.\n",
        "L'équation de Poisson a la forme suivante:\n",
        "<br>\n",
        "$$ \\Delta^2 U = -f(x,y) \\tag{1}$$\n",
        "<br>\n",
        "Où $\\Delta$ c'est l'opérateur Laplacian et $f(x,y)$ c'est la load/source fonction. Si on écrit l'équation dans le plan cartesian, on aurait:\n",
        "<br>\n",
        "<br>\n",
        "$$ \\frac{\\partial^2 u}{\\partial x^2} + \\frac{\\partial^2 u}{\\partial y^2} = f(x,y) \\tag{2}$$\n"
      ]
    },
    {
      "cell_type": "markdown",
      "metadata": {
        "id": "-kwAOkfrzGg7"
      },
      "source": [
        "On vais considerer une maillage limité à une portion du plan xy. C'est-à-dire, \n",
        "<br><br>\n",
        "$$ \\begin{cases}\n",
        "x_{i} = x_{0} + i\\Delta x, \\ 0 \\leq i \\leq I \\\\\n",
        "y_{i} = y_{0} + j\\Delta y, \\ 0 \\leq j \\leq J \n",
        "\\end{cases} \\tag{3}$$\n",
        "<br>\n",
        "Maintenant, on vais écrire la Maille, que doit donner le région que on a décrit dessu. \n",
        "Pour faire ça, on vais créer une classe, maille, avec le méthode \"getInfos\" qui retourne, basée dans le número de subdivision $N$, $dx$, $dy$, $\\epsilon x$ et $\\epsilon y$ pour la maille carrée defini pour $(x_{i}, y_{i})$ et $(x_{f}, y_{f})$."
      ]
    },
    {
      "cell_type": "code",
      "metadata": {
        "id": "uLXhdnan2KLI"
      },
      "source": [
        "#  Class Maille que donner les infos de la région de la maille carrée defini\n",
        "#  pour (xi, yi) et (xf, yf)\n",
        "\n",
        "class Maille():\n",
        "  def __init__(self, xi, yi, xf, yf, N):\n",
        "    self.xi = xi\n",
        "    self.yi = yi\n",
        "    self.xf = xf\n",
        "    self.yf = yf\n",
        "    self.N = N\n",
        "    \n",
        "  def getInfos(self):\n",
        "    dx = (self.xf - self.xi)/(self.N - 1)\n",
        "    #That's because we are analysing a squared maille\n",
        "    dy = dx\n",
        "    epsilonx = dx**(-2)\n",
        "    epsilony = epsilonx\n",
        "    return dx, dy, epsilonx, epsilony\n",
        "  "
      ],
      "execution_count": null,
      "outputs": []
    },
    {
      "cell_type": "markdown",
      "metadata": {
        "id": "xxawRUYj7_JS"
      },
      "source": [
        "Classiquement, pour résoudre le probléme numériquement, on doit écrire le development de Taylor à l'ordre 2 de l'équation $(2)$.\n",
        "<br>\n",
        "<br>\n",
        "$$ \\begin{cases} \n",
        "\\frac{\\partial^2 u}{\\partial x^2} = \\frac{u(x + \\Delta x,y) + u(x-\\Delta x,y) - 2u(x,y)}{\\Delta x^2} \\\\\n",
        "\\frac{\\partial^2 u}{\\partial y^2} = \\frac{u(x,y + \\Delta y) + u(x,y - \\Delta y) - 2u(x,y)}{\\Delta y^2} \n",
        "\\end{cases} \\tag{4}$$\n",
        "<br>\n",
        "Si on réecrire l'équation $(2)$ en notation discrète, avec le development de Taylor à l'ordre 2 que on a éffectué en $(4)$, on vais obtenir:\n",
        "<br>\n",
        "<br>\n",
        "$$ \\frac{1}{\\Delta x^2} (u_{i+1, j} + u_{i-1,j} - 2u_{i,j}) +  \\frac{1}{\\Delta y^2} (u_{i, j+1} + u_{u, j-1} + 2u_{i,j}) = \\rho_{i,j} \\tag{5}$$\n",
        "<br>\n",
        "Pour simplifier la notation, on remplace $\\frac{1}{\\Delta x^2}$ pour $\\epsilon_{x}$ et $\\frac{1}{\\Delta y^2}$ pour $\\epsilon_{y}$.\n",
        "<br>\n",
        "<br>\n",
        "$$ \\epsilon_{x} (u_{i+1, j} + u_{i-1,j} - 2u_{i,j}) + \\epsilon_{y} (u_{i, j+1} + u_{u, j-1} + 2u_{i,j}) = \\rho_{i,j} \\tag{6} $$\n",
        "<br>\n",
        "Maintenant, on vais faire le réindexation de $2D$ pour $1D$. C'est-à-dire,\n",
        "<br>\n",
        "<br>\n",
        "$$ \\begin{cases} \\ 0 \\leq i \\leq I  \\\\ \n",
        "\\ 0 \\leq j \\leq J \\end{cases} \\ \\Rightarrow \\ k = iJ +j, \\ 0 \\leq k \\leq IJ \\tag{7} $$\n",
        "<br>\n",
        "La nouvelle formulation de la solution c'est:\n",
        "<br>\n",
        "<br>\n",
        "$$ \\epsilon_{x} (u_{k+J+1} + u_{k-J-1}) + \\epsilon_{y} (u_{k+1} + u_{k-1}) - 2(\\epsilon_{x} + \\epsilon_{y})u_{k} = \\rho_{k} \\tag{8} $$\n",
        "<br>\n"
      ]
    },
    {
      "cell_type": "markdown",
      "metadata": {
        "id": "m37onBY1QvKB"
      },
      "source": [
        "L'équation $(8)$ peut être réecrire comme un systéme lineaire basée dans 3 vecteurs. Pour la matrix des coefficients:\n",
        "- Les éléments dans la diagonal auront valeur $-2(\\epsilon_{x} + \\epsilon_{y})$.\n",
        "- Les éléments dans les columns k + 1 ou k - 1, c'est-à-dire, juste après le diagonal, auront valeur $\\epsilon_{y}$.\n",
        "- Les éléments dans les columns k + j + 1 ou k - j - 1 auront valeur $\\epsilon_{x}$.\n",
        "Donc, ça resulte en une matrix A comme la suivante:\n",
        "<br>\n",
        "<br>\n",
        "$$ A \\ \\ \\ = \\ \\ \\ \\begin{bmatrix}  ...  \\\\ \n",
        "\\ \\ \\ ... \\ \\ \\ \\epsilon_{x} \\ \\ \\ ... \\ \\ \\ \\epsilon_{y} \\ \\ \\ -2(\\epsilon_{x} + \\epsilon_{y}) \\ \\ \\ \\epsilon_{y} \\ \\ \\  ... \\ \\ \\ \\epsilon_{x} \\ \\ \\ ... \\ \\ \\\n",
        "\\\\ ... \\\\ \n",
        "\\ \\ \\ ... \\ \\ \\ \\epsilon_{x} \\ \\ \\ ... \\ \\ \\ \\epsilon_{y} \\ \\ \\ -2(\\epsilon_{x} + \\epsilon_{y}) \\ \\ \\ \\epsilon_{y} \\ \\ \\  ... \\ \\ \\ \\epsilon_{x} \\ \\ \\ ... \\ \\ \\\n",
        "\\\\ ...\n",
        "\\\\ \n",
        "\\ \\ \\ ... \\ \\ \\ \\epsilon_{x} \\ \\ \\ ... \\ \\ \\ \\epsilon_{y} \\ \\ \\ -2(\\epsilon_{x} + \\epsilon_{y}) \\ \\ \\ \\epsilon_{y} \\ \\ \\  ... \\ \\ \\ \\epsilon_{x} \\ \\ \\ ... \\ \\ \\\n",
        "\\\\ ...\n",
        "\\end{bmatrix} $$\n",
        "<br>\n",
        "Maintenant, on vais creer une class avec un méthode, que vais genérer la matrix des coefficientes."
      ]
    },
    {
      "cell_type": "code",
      "metadata": {
        "id": "kxobNBhgIdiR"
      },
      "source": [
        "import numpy as np\n",
        "\n",
        "#Here we are creating the coefficients matrix\n",
        "class Matrice():\n",
        "  def __init__(self, epsilonx, epsilony, dim):\n",
        "    self.epsilonx = epsilonx\n",
        "    self.epsilony = epsilony\n",
        "    self.dim = dim\n",
        "  \n",
        "  #Method that creates the coefficient matrix based on the Dirichlet Condition\n",
        "  def generateMatrix(self):\n",
        "    #Some values that we are going to use in the loop to create the matrix\n",
        "    dim2d = self.dim**2\n",
        "    coefMatrix = np.zeros((dim2d, dim2d))\n",
        "\n",
        "    #Here is the loop to create the matrix\n",
        "    for index in range((dim2d)):\n",
        "      coefMatrix[index, index] = -2*(self.epsilony + self.epsilony)\n",
        "      if index - 1 >= 0:\n",
        "        coefMatrix[index, index - 1] = self.epsilonx\n",
        "      if index + 1 <= dim2d -1:\n",
        "        coefMatrix[index, index + 1] = self.epsilonx\n",
        "      if index + self.dim <= dim2d -1:\n",
        "        coefMatrix[index, index + self.dim] = self.epsilony\n",
        "      if index - self.dim >= 0:\n",
        "        coefMatrix[index, index - self.dim] = self.epsilony\n",
        "\n",
        "    return coefMatrix"
      ],
      "execution_count": null,
      "outputs": []
    },
    {
      "cell_type": "markdown",
      "metadata": {
        "id": "P06hyEbMk832"
      },
      "source": [
        "Maintenat, on doit trouver la charge pour, après, résoudre l'équation de Poisson."
      ]
    },
    {
      "cell_type": "code",
      "metadata": {
        "id": "Ts2UKzDenAY7"
      },
      "source": [
        "import numpy as np\n",
        "\n",
        "#That's a class for the Charge\n",
        "class Charge():\n",
        "  def __init__(self, dx, dy, xmin, xmax, y1, y2, N, dq):\n",
        "    self.dx = dx\n",
        "    self.dy = dy\n",
        "    self.xmin = xmin\n",
        "    self.xmax = xmax\n",
        "    self.y1 = y1\n",
        "    self.y2 = y2\n",
        "    self.N = N\n",
        "    self.dq = dq\n",
        "\n",
        "  #Here, we generate the charge based on the conditions specifieds in the PDF\n",
        "  def generateCharge(self):\n",
        "    jmin = round(self.xmin/self.dx)\n",
        "    jmax = round(self.xmax/self.dx)\n",
        "    i1 = round(self.y1/self.dy)\n",
        "    i2 = round(self.y2/self.dy)\n",
        "    m = np.zeros((self.N, self.N))\n",
        "    for j in range(jmin, jmax):\n",
        "        m[i1, j] = self.dq\n",
        "        m[i2, j] = -self.dq\n",
        "\n",
        "  #Here we do the transformation in a 1D vector, such as explained above\n",
        "    n = np.zeros(self.N**2)\n",
        "    for i in range(self.N):\n",
        "      for j in range(self.N):\n",
        "        n[i*self.N + j] = m[i,j]\n",
        "    return m,n \n",
        "\n",
        "    "
      ],
      "execution_count": null,
      "outputs": []
    },
    {
      "cell_type": "markdown",
      "metadata": {
        "id": "YaHDtbE2pu-6"
      },
      "source": [
        "Ici, on a une fonction que applique le méthode de Jacobi pour faire l'inversion d'une matrice"
      ]
    },
    {
      "cell_type": "code",
      "metadata": {
        "id": "MHRXXSZTp0Z1"
      },
      "source": [
        "import numpy as np\n",
        "\n",
        "\n",
        "def Jacobi(A, b, N, x_i): \n",
        "    D = np.diag(A)\n",
        "    R = A - np.diagflat(D)\n",
        "    for i in range(N):\n",
        "        x = (b - R.dot(x_i))/D\n",
        "        x_i = x\n",
        "    return x  "
      ],
      "execution_count": null,
      "outputs": []
    },
    {
      "cell_type": "markdown",
      "metadata": {
        "id": "NyqmqC8ZqSmu"
      },
      "source": [
        "Maintenant, on doit résoudre l'équation de Poisson. Pour ça, on vais initialiser le problème posé avec des conditions du prémier example présenté dans le document.\n"
      ]
    },
    {
      "cell_type": "code",
      "metadata": {
        "colab": {
          "base_uri": "https://localhost:8080/"
        },
        "id": "jJm7pAUyqdae",
        "outputId": "9d000ec2-805f-45a0-da17-535ae0e939b2"
      },
      "source": [
        "#Here, all the constants\n",
        "N = 65\n",
        "epsilon_0 = 8.85418782e-12\n",
        "\n",
        "\n",
        "#Maintenant, on doit initiliaser tout les classes\n",
        "maille = Maille(0, 0, 1, 1, N)\n",
        "dx, dy, epsilonx, epsilony = maille.getInfos()\n",
        "\n",
        "matrice = Matrice(epsilonx, epsilony, N)\n",
        "nabla = matrice.generateMatrix()\n",
        "\n",
        "charge = Charge(dx, dy, 0.25, 0.75, 0.4, 0.6 , N, 1)\n",
        "rho, rho_k = charge.generateCharge()\n",
        "print(nabla)"
      ],
      "execution_count": null,
      "outputs": [
        {
          "output_type": "stream",
          "name": "stdout",
          "text": [
            "[[-16384.   4096.      0. ...      0.      0.      0.]\n",
            " [  4096. -16384.   4096. ...      0.      0.      0.]\n",
            " [     0.   4096. -16384. ...      0.      0.      0.]\n",
            " ...\n",
            " [     0.      0.      0. ... -16384.   4096.      0.]\n",
            " [     0.      0.      0. ...   4096. -16384.   4096.]\n",
            " [     0.      0.      0. ...      0.   4096. -16384.]]\n"
          ]
        }
      ]
    },
    {
      "cell_type": "markdown",
      "metadata": {
        "id": "0kLp04bO2ouI"
      },
      "source": [
        "Pour résoudre l'Équation de Poisson, on doit faire l'inversion d'une matrice 4225 x 4225 "
      ]
    },
    {
      "cell_type": "code",
      "metadata": {
        "id": "8drTVzcc5d-X"
      },
      "source": [
        "#Since it takes time to inverse the matrice, it's nice to separete it in an unique code cell\n",
        "#So, if any adjust is necessary in other part, we don't have to run the inversion again\n",
        "\n",
        "inv_Matrix = Jacobi(nabla, -rho_k/epsilon_0, int(1e2), np.ones(len(rho_k)))"
      ],
      "execution_count": null,
      "outputs": []
    },
    {
      "cell_type": "code",
      "metadata": {
        "id": "rCCxLu2Z25FW"
      },
      "source": [
        "potential_poisson = np.zeros((N,N))\n",
        "for i in range(N):\n",
        "    for j in range(N):\n",
        "        potential_poisson[i,j] = inv_Matrix[i*N+j]"
      ],
      "execution_count": null,
      "outputs": []
    },
    {
      "cell_type": "markdown",
      "metadata": {
        "id": "ATAetHOS4HO3"
      },
      "source": [
        "Maintenant, il faut plotter les résultats."
      ]
    },
    {
      "cell_type": "code",
      "metadata": {
        "colab": {
          "base_uri": "https://localhost:8080/",
          "height": 534
        },
        "id": "wmUhTeY03rYN",
        "outputId": "dca0b9a9-5a5d-48c6-f029-da7983d550e3"
      },
      "source": [
        "import matplotlib.pyplot as plt\n",
        "\n",
        "#Plot of the solution\n",
        "plt.figure(figsize = (12,8))\n",
        "plt.contourf([xi * dx for xi in range(N)],[yi * dy for yi in range(N)], pot_u, 30)\n",
        "\n",
        "plt.xlabel('X')\n",
        "plt.ylabel('Y')\n",
        "plt.title(r' Solution de l Équation de Poisson pour le potential: $\\nabla^2 u = -\\rho/\\epsilon_0$')"
      ],
      "execution_count": null,
      "outputs": [
        {
          "output_type": "execute_result",
          "data": {
            "text/plain": [
              "Text(0.5, 1.0, ' Solution de l Équation de Poisson pour le potential: $\\\\nabla^2 u = -\\\\rho/\\\\epsilon_0$')"
            ]
          },
          "metadata": {},
          "execution_count": 175
        },
        {
          "output_type": "display_data",
          "data": {
            "image/png": "[encoded data removed]",
            "text/plain": [
              "<Figure size 864x576 with 1 Axes>"
            ]
          },
          "metadata": {
            "needs_background": "light"
          }
        }
      ]
    },
    {
      "cell_type": "markdown",
      "metadata": {
        "id": "I3Bf55AX4Ea7"
      },
      "source": [
        ""
      ]
    }
  ]
}